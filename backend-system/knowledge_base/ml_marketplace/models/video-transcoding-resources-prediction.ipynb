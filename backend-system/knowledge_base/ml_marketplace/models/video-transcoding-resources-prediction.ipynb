{
 "cells": [
  {
   "cell_type": "markdown",
   "id": "f1fe2212",
   "metadata": {},
   "source": [
    "# Video Transcoding Resource Prediction model\n",
    "\n",
    "A simple deep learning neural network that allows to predict needed resources for a certain resolution and latency. \n",
    "\n",
    "\n",
    "## Implementation\n",
    "The implementation of this initial model is using the Multiple Output Regression, where the input data are the resoluion *r* and the wanted latency *l*. The output are the max_cpu, max_memory, throughput and storage.\n",
    "\n",
    "### Note \n",
    "For initial implementation we will generate a random data and build a simple model as our aim is not to make the model but to showcase the architecture.\n"
   ]
  },
  {
   "cell_type": "code",
   "execution_count": 2,
   "id": "cc15338e",
   "metadata": {},
   "outputs": [],
   "source": [
    "# Importing make_regression function to generate sample data \n",
    "from sklearn.datasets import make_regression\n",
    "# Importing numpy to manage datasets \n",
    "import numpy as np\n",
    "# Importing keras to create neural networks model\n",
    "from keras.models import Sequential\n",
    "from keras.layers import Dense"
   ]
  },
  {
   "cell_type": "code",
   "execution_count": 2,
   "id": "a751a23e",
   "metadata": {},
   "outputs": [
    {
     "name": "stdout",
     "output_type": "stream",
     "text": [
      "[[2. 0.]\n",
      " [2. 1.]\n",
      " [1. 0.]\n",
      " ...\n",
      " [1. 0.]\n",
      " [0. 2.]\n",
      " [0. 1.]]\n",
      "[[139.  86. 100.  78.]\n",
      " [152.  91. 108.  85.]\n",
      " [ 53.  34.  39.  30.]\n",
      " ...\n",
      " [ 41.  45.  40.  20.]\n",
      " [196.  15.  84. 123.]\n",
      " [ 85.  14.  40.  53.]]\n",
      "(1000, 2) (1000, 4)\n"
     ]
    }
   ],
   "source": [
    "# The make_regression function creates a random regression problem dataset\n",
    "x, y = make_regression(n_samples=1000, n_features=2, n_informative=2, n_targets=4, random_state=5)\n",
    "# X is the input dataset \n",
    "# y is the output dataset \n",
    "x = np.absolute(x)\n",
    "y = np.absolute(y)\n",
    "\n",
    "# rounding values to int \n",
    "x = np.rint(x)\n",
    "y = np.rint(y)\n",
    "print(x)\n",
    "print(y)\n",
    "\n",
    "print(x.shape, y.shape)"
   ]
  },
  {
   "cell_type": "code",
   "execution_count": 3,
   "id": "eba12d11",
   "metadata": {},
   "outputs": [
    {
     "name": "stderr",
     "output_type": "stream",
     "text": [
      "2022-05-27 20:36:41.100977: E tensorflow/stream_executor/cuda/cuda_driver.cc:271] failed call to cuInit: CUDA_ERROR_NO_DEVICE: no CUDA-capable device is detected\n",
      "2022-05-27 20:36:41.101123: I tensorflow/stream_executor/cuda/cuda_diagnostics.cc:156] kernel driver does not appear to be running on this host (kero): /proc/driver/nvidia/version does not exist\n",
      "2022-05-27 20:36:41.105301: I tensorflow/core/platform/cpu_feature_guard.cc:193] This TensorFlow binary is optimized with oneAPI Deep Neural Network Library (oneDNN) to use the following CPU instructions in performance-critical operations:  AVX2 FMA\n",
      "To enable them in other operations, rebuild TensorFlow with the appropriate compiler flags.\n"
     ]
    }
   ],
   "source": [
    "# create a simple neural network\n",
    "model = Sequential()\n",
    "# adding a hidden layer \n",
    "# setting the kernel initializer to be uniform to initialize weights\n",
    "model.add(Dense(10, input_dim=2, kernel_initializer='he_uniform', activation='relu'))\n",
    "# adding an output layer \n",
    "model.add(Dense(4))\n",
    "model.compile(loss='mae', optimizer='adam')"
   ]
  },
  {
   "cell_type": "code",
   "execution_count": 10,
   "id": "2f5ed897",
   "metadata": {},
   "outputs": [
    {
     "name": "stdout",
     "output_type": "stream",
     "text": [
      "(1000, 10) (1000, 3)\n"
     ]
    }
   ],
   "source": []
  },
  {
   "cell_type": "code",
   "execution_count": null,
   "id": "e8a4fd12",
   "metadata": {},
   "outputs": [],
   "source": []
  }
 ],
 "metadata": {
  "kernelspec": {
   "display_name": "venv",
   "language": "python",
   "name": "venv"
  },
  "language_info": {
   "codemirror_mode": {
    "name": "ipython",
    "version": 3
   },
   "file_extension": ".py",
   "mimetype": "text/x-python",
   "name": "python",
   "nbconvert_exporter": "python",
   "pygments_lexer": "ipython3",
   "version": "3.8.13"
  }
 },
 "nbformat": 4,
 "nbformat_minor": 5
}
